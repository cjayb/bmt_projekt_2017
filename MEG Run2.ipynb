{
 "cells": [
  {
   "cell_type": "code",
   "execution_count": 1,
   "metadata": {
    "collapsed": true
   },
   "outputs": [],
   "source": [
    "%matplotlib qt"
   ]
  },
  {
   "cell_type": "markdown",
   "metadata": {},
   "source": [
    "Epoching and averaging (ERP/ERF)\n",
    "======="
   ]
  },
  {
   "cell_type": "code",
   "execution_count": 2,
   "metadata": {
    "collapsed": true
   },
   "outputs": [],
   "source": [
    "import os.path as op\n",
    "import numpy as np\n",
    "import matplotlib.pyplot as plt\n",
    "from mne import merge_events\n",
    "\n",
    "from sklearn.pipeline import make_pipeline\n",
    "from sklearn.preprocessing import StandardScaler\n",
    "from sklearn.linear_model import LogisticRegression\n",
    "\n",
    "import mne\n",
    "from mne.datasets import sample\n",
    "from mne.decoding import (SlidingEstimator, GeneralizingEstimator,\n",
    "                          cross_val_multiscore, LinearModel, get_coef)\n",
    "plt.close('all')"
   ]
  },
  {
   "cell_type": "code",
   "execution_count": 3,
   "metadata": {
    "collapsed": true
   },
   "outputs": [],
   "source": [
    "data_path = \"/Users/lassemadsen/Documents/CFIN_Praktik/MEG_dataCleaned/run_2_raw_sss.fif\""
   ]
  },
  {
   "cell_type": "code",
   "execution_count": 4,
   "metadata": {},
   "outputs": [
    {
     "name": "stdout",
     "output_type": "stream",
     "text": [
      "Opening raw data file /Users/lassemadsen/Documents/CFIN_Praktik/MEG_dataCleaned/run_2_raw_sss.fif...\n",
      "    Read a total of 8 projection items:\n",
      "        mag_68.fif : PCA-v1 (1 x 306)  idle\n",
      "        mag_68.fif : PCA-v2 (1 x 306)  idle\n",
      "        mag_68.fif : PCA-v3 (1 x 306)  idle\n",
      "        mag_68.fif : PCA-v4 (1 x 306)  idle\n",
      "        mag_68.fif : PCA-v5 (1 x 306)  idle\n",
      "        grad_68.fif : PCA-v1 (1 x 306)  idle\n",
      "        grad_68.fif : PCA-v2 (1 x 306)  idle\n",
      "        grad_68.fif : PCA-v3 (1 x 306)  idle\n",
      "    Range : 160000 ... 832999 =    160.000 ...   832.999 secs\n",
      "Ready.\n",
      "Current compensation grade : 0\n"
     ]
    }
   ],
   "source": [
    "raw = mne.io.read_raw_fif(data_path)"
   ]
  },
  {
   "cell_type": "code",
   "execution_count": 5,
   "metadata": {},
   "outputs": [
    {
     "name": "stdout",
     "output_type": "stream",
     "text": [
      "3700 events found\n",
      "Events id: [ 10 101 102 103 104 105 106 107 108 109 110 111 112 113 114 115 116 117\n",
      " 118 119 120 121 122 123 124 125 126 127 128 129 130 131 132 133 134 135\n",
      " 136]\n",
      "Found 3700 events, first five:\n",
      "[[190807      0     10]\n",
      " [191374     10    122]\n",
      " [191474      0    113]\n",
      " [191574      0    125]\n",
      " [191675      0    102]]\n"
     ]
    }
   ],
   "source": [
    "events = mne.find_events(raw, min_duration=0.01)\n",
    "print('Found %s events, first five:' % len(events))\n",
    "print(events[:5])"
   ]
  },
  {
   "cell_type": "code",
   "execution_count": 6,
   "metadata": {
    "collapsed": true
   },
   "outputs": [],
   "source": [
    "event_id = {'Q1/1':101, 'Q1/2':102, 'Q1/3':103, \n",
    "            'Q2/1':104, 'Q2/2':105, 'Q2/3':106, \n",
    "            'Q3/1':107, 'Q3/2':108, 'Q3/3':109, \n",
    "            'Q4/1':110, 'Q4/2':111, 'Q4/3':112,\n",
    "            'Q1/4':113, 'Q1/5':114, 'Q1/6':115, \n",
    "            'Q2/4':116, 'Q2/5':117, 'Q2/6':118, \n",
    "            'Q3/4':119, 'Q3/5':120, 'Q3/6':121, \n",
    "            'Q4/4':122, 'Q4/5':123, 'Q4/6':124,\n",
    "            'Q1/7':125, 'Q1/8':126, 'Q1/9':127, \n",
    "            'Q2/7':128, 'Q2/8':129, 'Q2/9':130, \n",
    "            'Q3/7':131, 'Q3/8':132, 'Q3/9':133, \n",
    "            'Q4/7':134, 'Q4/8':135, 'Q4/9':136} "
   ]
  },
  {
   "cell_type": "markdown",
   "metadata": {},
   "source": [
    "Filtrering af raw data:\n",
    "=="
   ]
  },
  {
   "cell_type": "code",
   "execution_count": 7,
   "metadata": {},
   "outputs": [
    {
     "name": "stdout",
     "output_type": "stream",
     "text": [
      "Reading 0 ... 672999  =      0.000 ...   672.999 secs...\n",
      "Setting up band-pass filter from 1 - 40 Hz\n",
      "fir_design defaults to \"firwin2\" in 0.15 but will change to \"firwin\" in 0.16, set it explicitly to avoid this warning.\n",
      "l_trans_bandwidth chosen to be 1.0 Hz\n",
      "h_trans_bandwidth chosen to be 10.0 Hz\n",
      "Filter length of 6600 samples (6.600 sec) selected\n"
     ]
    },
    {
     "name": "stderr",
     "output_type": "stream",
     "text": [
      "<ipython-input-7-54c934483dde>:3: DeprecationWarning: fir_design defaults to \"firwin2\" in 0.15 but will change to \"firwin\" in 0.16, set it explicitly to avoid this warning.\n",
      "  raw.load_data().filter(l_freq,h_freq)\n"
     ]
    },
    {
     "data": {
      "text/plain": [
       "<Raw  |  run_2_raw_sss.fif, n_channels x n_times : 332 x 673000 (673.0 sec), ~1.67 GB, data loaded>"
      ]
     },
     "execution_count": 7,
     "metadata": {},
     "output_type": "execute_result"
    }
   ],
   "source": [
    "l_freq = 1\n",
    "h_freq = 40\n",
    "raw.load_data().filter(l_freq,h_freq)"
   ]
  },
  {
   "cell_type": "markdown",
   "metadata": {},
   "source": [
    "Raw plot\n",
    "======"
   ]
  },
  {
   "cell_type": "code",
   "execution_count": null,
   "metadata": {},
   "outputs": [],
   "source": [
    "raw.plot(n_channels=10, order='selection')"
   ]
  },
  {
   "cell_type": "markdown",
   "metadata": {},
   "source": [
    "Inddeling i epochs:\n",
    "=="
   ]
  },
  {
   "cell_type": "code",
   "execution_count": null,
   "metadata": {},
   "outputs": [],
   "source": [
    "tmin, tmax = -0.05, 0.2\n",
    "baseline = None\n",
    "reject = {'mag': 4e-12,'eog':200e-6}\n",
    "epochs = mne.Epochs(raw, events=events, event_id=event_id, tmin=tmin,\n",
    "                   tmax=tmax, reject=reject, detrend=0, baseline=baseline)"
   ]
  },
  {
   "cell_type": "markdown",
   "metadata": {},
   "source": [
    "Plot af epochs\n",
    "=="
   ]
  },
  {
   "cell_type": "code",
   "execution_count": null,
   "metadata": {},
   "outputs": [],
   "source": [
    "epochs.plot(block=True)"
   ]
  },
  {
   "cell_type": "markdown",
   "metadata": {},
   "source": [
    "Definer evoked\n",
    "=="
   ]
  },
  {
   "cell_type": "code",
   "execution_count": null,
   "metadata": {
    "collapsed": true
   },
   "outputs": [],
   "source": [
    "picks = mne.pick_types(epochs.info, meg=True, eog=False)\n",
    "evoked_Q1_1 = epochs['Q1/1'].average(picks=picks)\n",
    "evoked_Q1_2 = epochs['Q1/2'].average(picks=picks)\n",
    "evoked_Q1_3 = epochs['Q1/3'].average(picks=picks)\n",
    "evoked_Q1_4 = epochs['Q1/4'].average(picks=picks)\n",
    "evoked_Q1_5 = epochs['Q1/5'].average(picks=picks)\n",
    "evoked_Q1_6 = epochs['Q1/6'].average(picks=picks)\n",
    "evoked_Q1_7 = epochs['Q1/7'].average(picks=picks)\n",
    "evoked_Q1_8 = epochs['Q1/8'].average(picks=picks)\n",
    "evoked_Q1_9 = epochs['Q1/9'].average(picks=picks)\n",
    "\n",
    "evoked_Q2_1 = epochs['Q2/1'].average(picks=picks)\n",
    "evoked_Q2_2 = epochs['Q2/2'].average(picks=picks)\n",
    "evoked_Q2_3 = epochs['Q2/3'].average(picks=picks)\n",
    "evoked_Q2_4 = epochs['Q2/4'].average(picks=picks)\n",
    "evoked_Q2_5 = epochs['Q2/5'].average(picks=picks)\n",
    "evoked_Q2_6 = epochs['Q2/6'].average(picks=picks)\n",
    "evoked_Q2_7 = epochs['Q2/7'].average(picks=picks)\n",
    "evoked_Q2_8 = epochs['Q2/8'].average(picks=picks)\n",
    "evoked_Q2_9 = epochs['Q2/9'].average(picks=picks)\n",
    "\n",
    "evoked_Q3_1 = epochs['Q3/1'].average(picks=picks)\n",
    "evoked_Q3_2 = epochs['Q3/2'].average(picks=picks)\n",
    "evoked_Q3_3 = epochs['Q3/3'].average(picks=picks)\n",
    "evoked_Q3_4 = epochs['Q3/4'].average(picks=picks)\n",
    "evoked_Q3_5 = epochs['Q3/5'].average(picks=picks)\n",
    "evoked_Q3_6 = epochs['Q3/6'].average(picks=picks)\n",
    "evoked_Q3_7 = epochs['Q3/7'].average(picks=picks)\n",
    "evoked_Q3_8 = epochs['Q3/8'].average(picks=picks)\n",
    "evoked_Q3_9 = epochs['Q3/9'].average(picks=picks)\n",
    "\n",
    "evoked_Q4_1 = epochs['Q4/1'].average(picks=picks)\n",
    "evoked_Q4_2 = epochs['Q4/2'].average(picks=picks)\n",
    "evoked_Q4_3 = epochs['Q4/3'].average(picks=picks)\n",
    "evoked_Q4_4 = epochs['Q4/4'].average(picks=picks)\n",
    "evoked_Q4_5 = epochs['Q4/5'].average(picks=picks)\n",
    "evoked_Q4_6 = epochs['Q4/6'].average(picks=picks)\n",
    "evoked_Q4_7 = epochs['Q4/7'].average(picks=picks)\n",
    "evoked_Q4_8 = epochs['Q4/8'].average(picks=picks)\n",
    "evoked_Q4_9 = epochs['Q4/9'].average(picks=picks)"
   ]
  },
  {
   "cell_type": "markdown",
   "metadata": {},
   "source": [
    "Evoked plot\n",
    "==="
   ]
  },
  {
   "cell_type": "code",
   "execution_count": null,
   "metadata": {},
   "outputs": [],
   "source": [
    "picks = mne.pick_types(evoked_Q3_2.info, meg=True, eeg=False, eog=False)\n",
    "evoked_Q3_2.plot(spatial_colors=True, picks=picks)"
   ]
  },
  {
   "cell_type": "markdown",
   "metadata": {},
   "source": [
    "Joint plots\n",
    "==="
   ]
  },
  {
   "cell_type": "code",
   "execution_count": null,
   "metadata": {},
   "outputs": [],
   "source": [
    "ts_args = dict(gfp=True)\n",
    "times = [0.035, 0.085, 0.135]\n",
    "topomap_args = dict(sensors=False)\n",
    "evoked_Q1_2.plot_joint(title='Plot af Q1/2', times=times,\n",
    "                        ts_args=ts_args, topomap_args=topomap_args)\n",
    "evoked_Q3_2.plot_joint(title='Plot af Q3/2', times=times,\n",
    "                        ts_args=ts_args, topomap_args=topomap_args)"
   ]
  },
  {
   "cell_type": "markdown",
   "metadata": {},
   "source": [
    "Subplot 85 ms\n",
    "===\n"
   ]
  },
  {
   "cell_type": "code",
   "execution_count": null,
   "metadata": {
    "collapsed": true
   },
   "outputs": [],
   "source": [
    "fig, ax = plt.subplots(1, 10)\n",
    "times = 0.085\n",
    "evoked_Q1_1.plot_topomap(times=times, axes=ax[0], show=False, colorbar=False, title='Q1')\n",
    "evoked_Q1_2.plot_topomap(times=times, axes=ax[1], show=False, colorbar=False)\n",
    "evoked_Q1_3.plot_topomap(times=times, axes=ax[2], show=False, colorbar=False)\n",
    "evoked_Q1_4.plot_topomap(times=times, axes=ax[3], show=False, colorbar=False)\n",
    "evoked_Q1_5.plot_topomap(times=times, axes=ax[4], show=False, colorbar=False)\n",
    "evoked_Q1_6.plot_topomap(times=times, axes=ax[5], show=False, colorbar=False)\n",
    "evoked_Q1_7.plot_topomap(times=times, axes=ax[6], show=False, colorbar=False)\n",
    "evoked_Q1_8.plot_topomap(times=times, axes=ax[7], show=False, colorbar=False)\n",
    "evoked_Q1_9.plot_topomap(times=times, axes=ax[8], show=False, colorbar=True)\n",
    "\n",
    "\n",
    "fig, ax = plt.subplots(1, 10)\n",
    "evoked_Q2_1.plot_topomap(times=times, axes=ax[0], show=False, colorbar=False, title='Q2')\n",
    "evoked_Q2_2.plot_topomap(times=times, axes=ax[1], show=False, colorbar=False)\n",
    "evoked_Q2_3.plot_topomap(times=times, axes=ax[2], show=False, colorbar=False)\n",
    "evoked_Q2_4.plot_topomap(times=times, axes=ax[3], show=False, colorbar=False)\n",
    "evoked_Q2_5.plot_topomap(times=times, axes=ax[4], show=False, colorbar=False)\n",
    "evoked_Q2_6.plot_topomap(times=times, axes=ax[5], show=False, colorbar=False)\n",
    "evoked_Q2_7.plot_topomap(times=times, axes=ax[6], show=False, colorbar=False)\n",
    "evoked_Q2_8.plot_topomap(times=times, axes=ax[7], show=False, colorbar=False)\n",
    "evoked_Q2_9.plot_topomap(times=times, axes=ax[8], show=False, colorbar=True)\n",
    "\n",
    "\n",
    "fig, ax = plt.subplots(1, 10)\n",
    "evoked_Q3_1.plot_topomap(times=times, axes=ax[0], show=False, colorbar=False, title='Q3')\n",
    "evoked_Q3_2.plot_topomap(times=times, axes=ax[1], show=False, colorbar=False)\n",
    "evoked_Q3_3.plot_topomap(times=times, axes=ax[2], show=False, colorbar=False)\n",
    "evoked_Q3_4.plot_topomap(times=times, axes=ax[3], show=False, colorbar=False)\n",
    "evoked_Q3_5.plot_topomap(times=times, axes=ax[4], show=False, colorbar=False)\n",
    "evoked_Q3_6.plot_topomap(times=times, axes=ax[5], show=False, colorbar=False)\n",
    "evoked_Q3_7.plot_topomap(times=times, axes=ax[6], show=False, colorbar=False)\n",
    "evoked_Q3_8.plot_topomap(times=times, axes=ax[7], show=False, colorbar=False)\n",
    "evoked_Q3_9.plot_topomap(times=times, axes=ax[8], show=False, colorbar=True)\n",
    "\n",
    "\n",
    "fig, ax = plt.subplots(1, 10)\n",
    "evoked_Q4_1.plot_topomap(times=times, axes=ax[0], show=False, colorbar=False, title='Q4')\n",
    "evoked_Q4_2.plot_topomap(times=times, axes=ax[1], show=False, colorbar=False)\n",
    "evoked_Q4_3.plot_topomap(times=times, axes=ax[2], show=False, colorbar=False)\n",
    "evoked_Q4_4.plot_topomap(times=times, axes=ax[3], show=False, colorbar=False)\n",
    "evoked_Q4_5.plot_topomap(times=times, axes=ax[4], show=False, colorbar=False)\n",
    "evoked_Q4_6.plot_topomap(times=times, axes=ax[5], show=False, colorbar=False)\n",
    "evoked_Q4_7.plot_topomap(times=times, axes=ax[6], show=False, colorbar=False)\n",
    "evoked_Q4_8.plot_topomap(times=times, axes=ax[7], show=False, colorbar=False)\n",
    "evoked_Q4_9.plot_topomap(times=times, axes=ax[8], show=False, colorbar=True)\n",
    "\n"
   ]
  },
  {
   "cell_type": "markdown",
   "metadata": {},
   "source": [
    "Inddeling i upper og lower\n",
    "==="
   ]
  },
  {
   "cell_type": "code",
   "execution_count": 13,
   "metadata": {},
   "outputs": [
    {
     "name": "stdout",
     "output_type": "stream",
     "text": [
      "[[101 102 103]\n",
      " [104 105 106]\n",
      " [107 108 109]\n",
      " [110 111 112]\n",
      " [113 114 115]\n",
      " [116 117 118]\n",
      " [119 120 121]\n",
      " [122 123 124]\n",
      " [125 126 127]\n",
      " [128 129 130]\n",
      " [131 132 133]\n",
      " [134 135 136]]\n"
     ]
    }
   ],
   "source": [
    "# Opdel i tripletter\n",
    "tmp = np.arange(101, 137, 1).reshape(12, 3)\n",
    "print(tmp)"
   ]
  },
  {
   "cell_type": "code",
   "execution_count": 14,
   "metadata": {},
   "outputs": [],
   "source": [
    "# Udvælg upper id's\n",
    "upper_ids = tmp[[0,3,4,7,8,11], :].ravel()\n",
    "\n",
    "# Udvælg lower id's\n",
    "lower_ids = tmp[[1,2,5,6,9,10], :].ravel()\n",
    "\n",
    "upLow_events = mne.merge_events(mne.merge_events(events, upper_ids, 1), lower_ids, 2)"
   ]
  },
  {
   "cell_type": "markdown",
   "metadata": {},
   "source": [
    "Decoding i upper/lower\n",
    "==="
   ]
  },
  {
   "cell_type": "code",
   "execution_count": 15,
   "metadata": {},
   "outputs": [
    {
     "name": "stdout",
     "output_type": "stream",
     "text": [
      "3600 matching events found\n",
      "Created an SSP operator (subspace dimension = 8)\n",
      "8 projection items activated\n"
     ]
    }
   ],
   "source": [
    "picks = mne.pick_types(raw.info, meg=True, eog=False, misc=False)\n",
    "\n",
    "event_id_upLow = {'Upper': 1, 'Lower':2}\n",
    "tmin, tmax = -0.05, 0.2\n",
    "baseline = None\n",
    "reject = {'mag': 4e-12}\n",
    "\n",
    "epochs_upLow = mne.Epochs(raw, events=upLow_events, event_id=event_id_upLow, tmin=tmin,\n",
    "                   tmax=tmax, reject=reject, detrend=0, baseline=baseline, decim=4, picks=picks)"
   ]
  },
  {
   "cell_type": "code",
   "execution_count": 16,
   "metadata": {},
   "outputs": [
    {
     "name": "stdout",
     "output_type": "stream",
     "text": [
      "Loading data for 3600 events and 251 original time points ...\n",
      "0 bad epochs dropped\n"
     ]
    }
   ],
   "source": [
    "X = epochs_upLow.get_data()  # MEG signals: n_epochs, n_channels, n_times\n",
    "y = epochs_upLow.events[:, 2]  # target: Audio left or right\n",
    "\n",
    "clf = make_pipeline(StandardScaler(), LogisticRegression())\n",
    "\n",
    "time_decod = SlidingEstimator(clf, n_jobs=1, scoring='roc_auc')\n",
    "\n",
    "scores = cross_val_multiscore(time_decod, X, y, cv=5, n_jobs=1)\n",
    "\n",
    "# Mean scores across cross-validation splits\n",
    "scores = np.mean(scores, axis=0)\n",
    "\n",
    "# Plot\n",
    "fig, ax = plt.subplots()\n",
    "ax.plot(epochs_upLow.times, scores, label='score')\n",
    "ax.axhline(.5, color='k', linestyle='--', label='chance')\n",
    "ax.set_xlabel('Times')\n",
    "ax.set_ylabel('AUC')  # Area Under the Curve\n",
    "ax.legend()\n",
    "ax.axvline(.0, color='k', linestyle='-')\n",
    "ax.set_title('Sensor space decoding')\n",
    "plt.show()"
   ]
  },
  {
   "cell_type": "code",
   "execution_count": 17,
   "metadata": {
    "collapsed": true
   },
   "outputs": [],
   "source": [
    "# define the Temporal Generalization object\n",
    "time_gen = GeneralizingEstimator(clf, n_jobs=1, scoring='roc_auc')\n",
    "\n",
    "scores = cross_val_multiscore(time_gen, X, y, cv=5, n_jobs=1)\n",
    "\n",
    "# Mean scores across cross-validation splits\n",
    "scores = np.mean(scores, axis=0)\n",
    "\n",
    "# Plot the diagonal (it's exactly the same as the time-by-time decoding above)\n",
    "fig, ax = plt.subplots()\n",
    "ax.plot(epochs_upLow.times, np.diag(scores), label='score')\n",
    "ax.axhline(.5, color='k', linestyle='--', label='chance')\n",
    "ax.set_xlabel('Times')\n",
    "ax.set_ylabel('AUC')\n",
    "ax.legend()\n",
    "ax.axvline(.0, color='k', linestyle='-')\n",
    "ax.set_title('Decoding MEG sensors over time')\n",
    "plt.show()\n",
    "\n",
    "# Plot the full matrix\n",
    "fig, ax = plt.subplots(1, 1)\n",
    "im = ax.imshow(scores, interpolation='lanczos', origin='lower', cmap='RdBu_r',\n",
    "               extent=epochs_upLow.times[[0, -1, 0, -1]], vmin=0., vmax=1.)\n",
    "ax.set_xlabel('Testing Time (s)')\n",
    "ax.set_ylabel('Training Time (s)')\n",
    "ax.set_title('Temporal Generalization')\n",
    "ax.axvline(0, color='k')\n",
    "ax.axhline(0, color='k')\n",
    "plt.colorbar(im, ax=ax)\n",
    "plt.show()"
   ]
  },
  {
   "cell_type": "markdown",
   "metadata": {},
   "source": [
    "Inddeling i right/left\n",
    "==="
   ]
  },
  {
   "cell_type": "code",
   "execution_count": 8,
   "metadata": {
    "collapsed": true
   },
   "outputs": [],
   "source": [
    "# Opdel i tripletter\n",
    "tmp = np.arange(101, 137, 1).reshape(12, 3)\n",
    "\n",
    "# Udvælg right id's\n",
    "right_ids = tmp[[0,1,4,5,8,9], :].ravel()\n",
    "\n",
    "# Udvælg left id's\n",
    "left_ids = tmp[[2,3,6,7,10,11], :].ravel()"
   ]
  },
  {
   "cell_type": "code",
   "execution_count": 9,
   "metadata": {
    "collapsed": true
   },
   "outputs": [],
   "source": [
    "rightLeft_events = mne.merge_events(mne.merge_events(events, right_ids, 1), left_ids, 2)"
   ]
  },
  {
   "cell_type": "code",
   "execution_count": 10,
   "metadata": {
    "scrolled": true
   },
   "outputs": [
    {
     "name": "stdout",
     "output_type": "stream",
     "text": [
      "3600 matching events found\n",
      "Created an SSP operator (subspace dimension = 8)\n",
      "8 projection items activated\n"
     ]
    }
   ],
   "source": [
    "picks = mne.pick_types(raw.info, meg=True, eog=False, misc=False)\n",
    "event_id_rightLeft = {'Right': 1, 'Left':2}\n",
    "tmin, tmax = -0.05, 0.2\n",
    "baseline = None\n",
    "reject = {'mag': 4e-12}\n",
    "\n",
    "epochs_rightLeft = mne.Epochs(raw, events=rightLeft_events, event_id=event_id_rightLeft, tmin=tmin,\n",
    "                   tmax=tmax, reject=reject, detrend=0, baseline=baseline, decim=4, picks=picks)"
   ]
  },
  {
   "cell_type": "markdown",
   "metadata": {},
   "source": [
    "Decoding right/left\n",
    "==="
   ]
  },
  {
   "cell_type": "code",
   "execution_count": 11,
   "metadata": {},
   "outputs": [
    {
     "name": "stdout",
     "output_type": "stream",
     "text": [
      "Loading data for 3600 events and 251 original time points ...\n",
      "0 bad epochs dropped\n"
     ]
    }
   ],
   "source": [
    "X = epochs_rightLeft.get_data()  # MEG signals: n_epochs, n_channels, n_times\n",
    "y = epochs_rightLeft.events[:, 2]  # target: Audio left or right\n",
    "\n",
    "clf = make_pipeline(StandardScaler(), LogisticRegression())\n",
    "\n",
    "time_decod = SlidingEstimator(clf, n_jobs=1, scoring='roc_auc')\n",
    "\n",
    "scores = cross_val_multiscore(time_decod, X, y, cv=5, n_jobs=1)\n",
    "\n",
    "# Mean scores across cross-validation splits\n",
    "scores = np.mean(scores, axis=0)\n",
    "\n",
    "# Plot\n",
    "fig, ax = plt.subplots()\n",
    "ax.plot(epochs_rightLeft.times, scores, label='score')\n",
    "ax.axhline(.5, color='k', linestyle='--', label='chance')\n",
    "ax.set_xlabel('Times')\n",
    "ax.set_ylabel('AUC')  # Area Under the Curve\n",
    "ax.legend()\n",
    "ax.axvline(.0, color='k', linestyle='-')\n",
    "ax.set_title('Sensor space decoding')\n",
    "plt.show()\n"
   ]
  },
  {
   "cell_type": "code",
   "execution_count": 12,
   "metadata": {},
   "outputs": [
    {
     "ename": "TypeError",
     "evalue": "Invalid dimensions for image data",
     "output_type": "error",
     "traceback": [
      "\u001b[0;31m---------------------------------------------------------------------------\u001b[0m",
      "\u001b[0;31mTypeError\u001b[0m                                 Traceback (most recent call last)",
      "\u001b[0;32m<ipython-input-12-bc935112e71e>\u001b[0m in \u001b[0;36m<module>\u001b[0;34m()\u001b[0m\n\u001b[1;32m      2\u001b[0m \u001b[0mfig\u001b[0m\u001b[0;34m,\u001b[0m \u001b[0max\u001b[0m \u001b[0;34m=\u001b[0m \u001b[0mplt\u001b[0m\u001b[0;34m.\u001b[0m\u001b[0msubplots\u001b[0m\u001b[0;34m(\u001b[0m\u001b[0;36m1\u001b[0m\u001b[0;34m,\u001b[0m \u001b[0;36m1\u001b[0m\u001b[0;34m)\u001b[0m\u001b[0;34m\u001b[0m\u001b[0m\n\u001b[1;32m      3\u001b[0m im = ax.imshow(scores, interpolation='lanczos', origin='lower', cmap='RdBu_r',\n\u001b[0;32m----> 4\u001b[0;31m                extent=epochs_rightLeft.times, vmin=0., vmax=1.)\n\u001b[0m\u001b[1;32m      5\u001b[0m \u001b[0max\u001b[0m\u001b[0;34m.\u001b[0m\u001b[0mset_xlabel\u001b[0m\u001b[0;34m(\u001b[0m\u001b[0;34m'Testing Time (s)'\u001b[0m\u001b[0;34m)\u001b[0m\u001b[0;34m\u001b[0m\u001b[0m\n\u001b[1;32m      6\u001b[0m \u001b[0max\u001b[0m\u001b[0;34m.\u001b[0m\u001b[0mset_ylabel\u001b[0m\u001b[0;34m(\u001b[0m\u001b[0;34m'Training Time (s)'\u001b[0m\u001b[0;34m)\u001b[0m\u001b[0;34m\u001b[0m\u001b[0m\n",
      "\u001b[0;32m/Users/lassemadsen/anaconda/lib/python2.7/site-packages/matplotlib/__init__.pyc\u001b[0m in \u001b[0;36minner\u001b[0;34m(ax, *args, **kwargs)\u001b[0m\n\u001b[1;32m   1810\u001b[0m                     warnings.warn(msg % (label_namer, func.__name__),\n\u001b[1;32m   1811\u001b[0m                                   RuntimeWarning, stacklevel=2)\n\u001b[0;32m-> 1812\u001b[0;31m             \u001b[0;32mreturn\u001b[0m \u001b[0mfunc\u001b[0m\u001b[0;34m(\u001b[0m\u001b[0max\u001b[0m\u001b[0;34m,\u001b[0m \u001b[0;34m*\u001b[0m\u001b[0margs\u001b[0m\u001b[0;34m,\u001b[0m \u001b[0;34m**\u001b[0m\u001b[0mkwargs\u001b[0m\u001b[0;34m)\u001b[0m\u001b[0;34m\u001b[0m\u001b[0m\n\u001b[0m\u001b[1;32m   1813\u001b[0m         \u001b[0mpre_doc\u001b[0m \u001b[0;34m=\u001b[0m \u001b[0minner\u001b[0m\u001b[0;34m.\u001b[0m\u001b[0m__doc__\u001b[0m\u001b[0;34m\u001b[0m\u001b[0m\n\u001b[1;32m   1814\u001b[0m         \u001b[0;32mif\u001b[0m \u001b[0mpre_doc\u001b[0m \u001b[0;32mis\u001b[0m \u001b[0mNone\u001b[0m\u001b[0;34m:\u001b[0m\u001b[0;34m\u001b[0m\u001b[0m\n",
      "\u001b[0;32m/Users/lassemadsen/anaconda/lib/python2.7/site-packages/matplotlib/axes/_axes.pyc\u001b[0m in \u001b[0;36mimshow\u001b[0;34m(self, X, cmap, norm, aspect, interpolation, alpha, vmin, vmax, origin, extent, shape, filternorm, filterrad, imlim, resample, url, **kwargs)\u001b[0m\n\u001b[1;32m   4945\u001b[0m                               resample=resample, **kwargs)\n\u001b[1;32m   4946\u001b[0m \u001b[0;34m\u001b[0m\u001b[0m\n\u001b[0;32m-> 4947\u001b[0;31m         \u001b[0mim\u001b[0m\u001b[0;34m.\u001b[0m\u001b[0mset_data\u001b[0m\u001b[0;34m(\u001b[0m\u001b[0mX\u001b[0m\u001b[0;34m)\u001b[0m\u001b[0;34m\u001b[0m\u001b[0m\n\u001b[0m\u001b[1;32m   4948\u001b[0m         \u001b[0mim\u001b[0m\u001b[0;34m.\u001b[0m\u001b[0mset_alpha\u001b[0m\u001b[0;34m(\u001b[0m\u001b[0malpha\u001b[0m\u001b[0;34m)\u001b[0m\u001b[0;34m\u001b[0m\u001b[0m\n\u001b[1;32m   4949\u001b[0m         \u001b[0;32mif\u001b[0m \u001b[0mim\u001b[0m\u001b[0;34m.\u001b[0m\u001b[0mget_clip_path\u001b[0m\u001b[0;34m(\u001b[0m\u001b[0;34m)\u001b[0m \u001b[0;32mis\u001b[0m \u001b[0mNone\u001b[0m\u001b[0;34m:\u001b[0m\u001b[0;34m\u001b[0m\u001b[0m\n",
      "\u001b[0;32m/Users/lassemadsen/anaconda/lib/python2.7/site-packages/matplotlib/image.pyc\u001b[0m in \u001b[0;36mset_data\u001b[0;34m(self, A)\u001b[0m\n\u001b[1;32m    451\u001b[0m         if (self._A.ndim not in (2, 3) or\n\u001b[1;32m    452\u001b[0m                 (self._A.ndim == 3 and self._A.shape[-1] not in (3, 4))):\n\u001b[0;32m--> 453\u001b[0;31m             \u001b[0;32mraise\u001b[0m \u001b[0mTypeError\u001b[0m\u001b[0;34m(\u001b[0m\u001b[0;34m\"Invalid dimensions for image data\"\u001b[0m\u001b[0;34m)\u001b[0m\u001b[0;34m\u001b[0m\u001b[0m\n\u001b[0m\u001b[1;32m    454\u001b[0m \u001b[0;34m\u001b[0m\u001b[0m\n\u001b[1;32m    455\u001b[0m         \u001b[0mself\u001b[0m\u001b[0;34m.\u001b[0m\u001b[0m_imcache\u001b[0m \u001b[0;34m=\u001b[0m \u001b[0mNone\u001b[0m\u001b[0;34m\u001b[0m\u001b[0m\n",
      "\u001b[0;31mTypeError\u001b[0m: Invalid dimensions for image data"
     ]
    }
   ],
   "source": [
    "# Plot the full matrix\n",
    "fig, ax = plt.subplots(1, 1)\n",
    "im = ax.imshow(scores, interpolation='lanczos', origin='lower', cmap='RdBu_r',\n",
    "               extent=epochs_rightLeft.times, vmin=0., vmax=1.)\n",
    "ax.set_xlabel('Testing Time (s)')\n",
    "ax.set_ylabel('Training Time (s)')\n",
    "ax.set_title('Temporal Generalization')\n",
    "ax.axvline(0, color='k')\n",
    "ax.axhline(0, color='k')\n",
    "plt.colorbar(im, ax=ax)\n",
    "plt.show()"
   ]
  },
  {
   "cell_type": "markdown",
   "metadata": {},
   "source": [
    "Inddeling i 4 kvadranter\n",
    "==="
   ]
  },
  {
   "cell_type": "code",
   "execution_count": null,
   "metadata": {
    "collapsed": true
   },
   "outputs": [],
   "source": [
    "tmp_id_Q = np.arange(101,137,1).reshape(12, 3)\n",
    "Q1_id = tmp_id_Q[[0,4,8],:].ravel()\n",
    "Q2_id = tmp_id_Q[[1,5,9],:].ravel()\n",
    "Q3_id = tmp_id_Q[[2,6,10],:].ravel()\n",
    "Q4_id = tmp_id_Q[[3,7,11],:].ravel()"
   ]
  },
  {
   "cell_type": "code",
   "execution_count": null,
   "metadata": {
    "collapsed": true
   },
   "outputs": [],
   "source": [
    "new_events_Q = mne.merge_events(events, Q1_id, 1)\n",
    "new_events_Q = mne.merge_events(new_events_Q, Q2_id, 2)\n",
    "new_events_Q = mne.merge_events(new_events_Q, Q3_id, 3)\n",
    "new_events_Q = mne.merge_events(new_events_Q, Q4_id, 4)"
   ]
  },
  {
   "cell_type": "code",
   "execution_count": null,
   "metadata": {},
   "outputs": [],
   "source": [
    "picks = mne.pick_types(raw.info, meg=True, eog=False, misc=False)\n",
    "tmin, tmax = -0.05, 0.2\n",
    "baseline = None\n",
    "reject = {'mag': 4e-12}\n",
    "\n",
    "new_event_Q12_id = dict(Q1=1, Q2=2)\n",
    "epochs_MVP_Q12 = mne.Epochs(raw = raw, events = new_events_Q, event_id = new_event_Q12_id, tmin = tmin, tmax = tmax, proj=True,\n",
    "                     baseline=None, detrend = 0, preload=True,\n",
    "                    reject=reject, decim=4, picks=picks)\n",
    "\n",
    "new_event_Q13_id = dict(Q1=1, Q3=3)\n",
    "epochs_MVP_Q13 = mne.Epochs(raw = raw, events = new_events_Q, event_id = new_event_Q13_id, tmin = tmin, tmax = tmax, proj=True,\n",
    "                     baseline=None, detrend = 0, preload=True,\n",
    "                    reject=reject, decim=4, picks=picks)\n",
    "\n",
    "new_event_Q14_id = dict(Q1=1, Q4=4)\n",
    "epochs_MVP_Q14 = mne.Epochs(raw = raw, events = new_events_Q, event_id = new_event_Q14_id, tmin = tmin, tmax = tmax, proj=True,\n",
    "                     baseline=None, detrend = 0, preload=True,\n",
    "                    reject=reject, decim=4, picks=picks)\n",
    "\n",
    "new_event_Q23_id = dict(Q2=2, Q3=3)\n",
    "epochs_MVP_Q23 = mne.Epochs(raw = raw, events = new_events_Q, event_id = new_event_Q23_id, tmin = tmin, tmax = tmax, proj=True,\n",
    "                     baseline=None, detrend = 0, preload=True,\n",
    "                    reject=reject, decim=4, picks=picks)\n",
    "\n",
    "new_event_Q24_id = dict(Q2=2, Q4=4)\n",
    "epochs_MVP_Q24 = mne.Epochs(raw = raw, events = new_events_Q, event_id = new_event_Q24_id, tmin = tmin, tmax = tmax, proj=True,\n",
    "                     baseline=None, detrend = 0, preload=True,\n",
    "                    reject=reject, decim=4, picks=picks)\n",
    "\n",
    "new_event_Q34_id = dict(Q3=3, Q4=4)\n",
    "epochs_MVP_Q34 = mne.Epochs(raw = raw, events = new_events_Q, event_id = new_event_Q34_id, tmin = tmin, tmax = tmax, proj=True,\n",
    "                     baseline=None, detrend = 0, preload=True,\n",
    "                    reject=reject, decim=4, picks=picks)"
   ]
  },
  {
   "cell_type": "code",
   "execution_count": null,
   "metadata": {
    "collapsed": true
   },
   "outputs": [],
   "source": [
    "XQ12 = epochs_MVP_Q12.get_data()  # MEG signals: n_epochs, n_channels, n_times\n",
    "yQ12 = epochs_MVP_Q12.events[:, 2]  # target\n",
    "XQ13 = epochs_MVP_Q13.get_data()  # MEG signals: n_epochs, n_channels, n_times\n",
    "yQ13 = epochs_MVP_Q13.events[:, 2]  # target\n",
    "XQ14 = epochs_MVP_Q14.get_data()  # MEG signals: n_epochs, n_channels, n_times\n",
    "yQ14 = epochs_MVP_Q14.events[:, 2]  # target\n",
    "XQ23 = epochs_MVP_Q23.get_data()  # MEG signals: n_epochs, n_channels, n_times\n",
    "yQ23 = epochs_MVP_Q23.events[:, 2]  # target\n",
    "XQ24 = epochs_MVP_Q24.get_data()  # MEG signals: n_epochs, n_channels, n_times\n",
    "yQ24 = epochs_MVP_Q24.events[:, 2]  # target\n",
    "XQ34 = epochs_MVP_Q34.get_data()  # MEG signals: n_epochs, n_channels, n_times\n",
    "yQ34 = epochs_MVP_Q34.events[:, 2]  # target"
   ]
  },
  {
   "cell_type": "code",
   "execution_count": null,
   "metadata": {},
   "outputs": [],
   "source": [
    "scoring_function1 = 'roc_auc'\n",
    "clf = make_pipeline(StandardScaler(), LogisticRegression())\n",
    "\n",
    "# define the Temporal Generalization object\n",
    "time_gen = GeneralizingEstimator(clf, n_jobs=1, scoring=scoring_function1)\n",
    "\n",
    "# 12\n",
    "scoresQ12 = cross_val_multiscore(time_gen, XQ12, yQ12, cv=5, n_jobs=1)\n",
    "\n",
    "# Mean scores across cross-validation splits\n",
    "scoresQ12 = np.mean(scoresQ12, axis=0)\n",
    "\n",
    "# 13\n",
    "scoresQ13 = cross_val_multiscore(time_gen, XQ13, yQ13, cv=5, n_jobs=1)\n",
    "\n",
    "# Mean scores across cross-validation splits\n",
    "scoresQ13 = np.mean(scoresQ13, axis=0)\n",
    "\n",
    "# 14\n",
    "scoresQ14 = cross_val_multiscore(time_gen, XQ14, yQ14, cv=5, n_jobs=1)\n",
    "\n",
    "# Mean scores across cross-validation splits\n",
    "scoresQ14 = np.mean(scoresQ14, axis=0)\n",
    "\n",
    "# 23\n",
    "scoresQ23 = cross_val_multiscore(time_gen, XQ23, yQ23, cv=5, n_jobs=1)\n",
    "\n",
    "# Mean scores across cross-validation splits\n",
    "scoresQ23 = np.mean(scoresQ23, axis=0)\n",
    "\n",
    "# 24\n",
    "scoresQ24 = cross_val_multiscore(time_gen, XQ24, yQ24, cv=5, n_jobs=1)\n",
    "\n",
    "# Mean scores across cross-validation splits\n",
    "scoresQ24 = np.mean(scoresQ24, axis=0)\n",
    "\n",
    "# 34\n",
    "scoresQ34 = cross_val_multiscore(time_gen, XQ34, yQ34, cv=5, n_jobs=1)\n",
    "\n",
    "# Mean scores across cross-validation splits\n",
    "scoresQ34 = np.mean(scoresQ34, axis=0)"
   ]
  },
  {
   "cell_type": "code",
   "execution_count": null,
   "metadata": {
    "collapsed": true
   },
   "outputs": [],
   "source": [
    "# Plot the diagonal (it's exactly the same as the time-by-time decoding above)\n",
    "fig, ax = plt.subplots()\n",
    "ax.plot(epochs_MVP_Q12.times, np.diag(scoresQ12), label='Q1 vs Q2')\n",
    "\n",
    "ax.plot(epochs_MVP_Q13.times, np.diag(scoresQ13), label='Q1 vs Q3')\n",
    "\n",
    "ax.plot(epochs_MVP_Q14.times, np.diag(scoresQ14), label='Q1 vs Q4')\n",
    "\n",
    "ax.plot(epochs_MVP_Q23.times, np.diag(scoresQ23), label='Q2 vs Q3')\n",
    "\n",
    "ax.plot(epochs_MVP_Q24.times, np.diag(scoresQ24), label='Q2 vs Q4')\n",
    "\n",
    "ax.plot(epochs_MVP_Q34.times, np.diag(scoresQ34), label='Q3 vs Q4')\n",
    "ax.axhline(.5, color='k', linestyle='--', label='chance')\n",
    "ax.set_xlabel('Times')\n",
    "ax.set_ylabel('AUC')\n",
    "ax.legend()\n",
    "ax.axvline(.0, color='k', linestyle='-')\n",
    "ax.set_title('Decoding MEG sensors over time in different quadrants')\n",
    "plt.show()"
   ]
  },
  {
   "cell_type": "markdown",
   "metadata": {
    "collapsed": true
   },
   "source": [
    "Plot at Q1 vs Q4 uden misc kanal\n",
    "==="
   ]
  },
  {
   "cell_type": "code",
   "execution_count": null,
   "metadata": {
    "collapsed": true
   },
   "outputs": [],
   "source": [
    "picks = mne.pick_types(raw.info, meg=True, eog=False, misc=False)\n",
    "tmin, tmax = -0.05, 0.2\n",
    "baseline = None\n",
    "reject = {'mag': 4e-12}\n",
    "\n",
    "tmp_id_Q = np.arange(101,137,1).reshape(12, 3)\n",
    "Q1_id = tmp_id_Q[[0,4,8],:].ravel()\n",
    "Q2_id = tmp_id_Q[[1,5,9],:].ravel()\n",
    "Q3_id = tmp_id_Q[[2,6,10],:].ravel()\n",
    "Q4_id = tmp_id_Q[[3,7,11],:].ravel()\n",
    "\n",
    "new_events_Q = mne.merge_events(events, Q1_id, 1)\n",
    "new_events_Q = mne.merge_events(new_events_Q, Q2_id, 2)\n",
    "new_events_Q = mne.merge_events(new_events_Q, Q3_id, 3)\n",
    "new_events_Q = mne.merge_events(new_events_Q, Q4_id, 4)"
   ]
  },
  {
   "cell_type": "code",
   "execution_count": null,
   "metadata": {},
   "outputs": [],
   "source": [
    "new_event_Q14_id = dict(Q1=1, Q4=4)\n",
    "epochs_MVP_Q14 = mne.Epochs(raw = raw, events = new_events_Q, event_id = new_event_Q14_id, tmin = tmin, tmax = tmax, proj=True,\n",
    "                     baseline=None, detrend = 0, preload=True,\n",
    "                    reject=reject, decim=4, picks=picks)"
   ]
  },
  {
   "cell_type": "code",
   "execution_count": null,
   "metadata": {
    "collapsed": true
   },
   "outputs": [],
   "source": [
    "XQ14 = epochs_MVP_Q14.get_data()  # MEG signals: n_epochs, n_channels, n_times\n",
    "yQ14 = epochs_MVP_Q14.events[:, 2]  # target"
   ]
  },
  {
   "cell_type": "code",
   "execution_count": null,
   "metadata": {},
   "outputs": [],
   "source": [
    "scoring_function1 = 'roc_auc'\n",
    "clf = make_pipeline(StandardScaler(), LogisticRegression())\n",
    "\n",
    "time_decod = SlidingEstimator(clf, n_jobs=1, scoring='roc_auc')\n",
    "\n",
    "# define the Temporal Generalization object\n",
    "time_gen = GeneralizingEstimator(clf, n_jobs=1, scoring=scoring_function1)\n",
    "\n",
    "# 14\n",
    "scoresQ14 = cross_val_multiscore(time_gen, XQ14, yQ14, cv=5, n_jobs=1)\n",
    "\n",
    "# Mean scores across cross-validation splits\n",
    "scoresQ14 = np.mean(scoresQ14, axis=0)"
   ]
  },
  {
   "cell_type": "code",
   "execution_count": null,
   "metadata": {},
   "outputs": [],
   "source": [
    "# Plot the diagonal (it's exactly the same as the time-by-time decoding above)\n",
    "fig, ax = plt.subplots()\n",
    "\n",
    "ax.plot(epochs_MVP_Q14.times, np.diag(scoresQ14), label='Q1 vs Q4')\n",
    "ax.axhline(.5, color='k', linestyle='--', label='chance')\n",
    "ax.set_xlabel('Times')\n",
    "ax.set_ylabel('AUC')\n",
    "ax.legend()\n",
    "ax.axvline(.0, color='k', linestyle='-')\n",
    "ax.set_title('Decoding MEG sensors over time in different quadrants')\n",
    "plt.show()"
   ]
  },
  {
   "cell_type": "code",
   "execution_count": null,
   "metadata": {
    "collapsed": true
   },
   "outputs": [],
   "source": []
  }
 ],
 "metadata": {
  "kernelspec": {
   "display_name": "Python 2",
   "language": "python",
   "name": "python2"
  },
  "language_info": {
   "codemirror_mode": {
    "name": "ipython",
    "version": 2
   },
   "file_extension": ".py",
   "mimetype": "text/x-python",
   "name": "python",
   "nbconvert_exporter": "python",
   "pygments_lexer": "ipython2",
   "version": "2.7.13"
  }
 },
 "nbformat": 4,
 "nbformat_minor": 2
}
